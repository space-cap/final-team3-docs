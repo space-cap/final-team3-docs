{
  "cells": [
    {
      "cell_type": "markdown",
      "metadata": {
        "id": "view-in-github",
        "colab_type": "text"
      },
      "source": [
        "<a href=\"https://colab.research.google.com/github/space-cap/final-team3-docs/blob/main/%5BKernel_Academy_%EB%B0%B1%EC%97%94%EB%93%9C_%EB%B6%80%ED%8A%B8%EC%BA%A0%ED%94%84_12%EA%B8%B0%5DLangchain_RAG_Tutorial.ipynb\" target=\"_parent\"><img src=\"https://colab.research.google.com/assets/colab-badge.svg\" alt=\"Open In Colab\"/></a>"
      ]
    },
    {
      "cell_type": "markdown",
      "source": [
        "## Upstage Solar와 Langchain을 활용한 RAG 구축 실습 프로젝트\n",
        "\n",
        "## 실습 개요\n",
        "이번 실습은 RAG (Retrieval-Augmented Generation)의 개념을 이해하고, Upstage의 Solar-Embedding-1-Large-Query와 Solar-Pro2을 활용하여 단계별로 RAG 시스템을 직접 구축해보는 것을 목표로 합니다.\n",
        "\n",
        "## 실습 목표\n",
        "1. LLM Chain을 구현하여 간단한 ChatBot을 구현할 수 있다.\n",
        "2. RAG 개념을 설명하고 단계별 RAG 시스템을 구축할 수 있다.\n",
        "\n",
        "## 실습 목차\n",
        "- **Session. RAG 구현하기**:  RAG 개념을 이해하고 단계별로 RAG를 직접 구현해보자 <br>\n",
        "    - 1 What is RAG?\n",
        "    - 2 - 단계별 RAG 구현해보기\n",
        "      - 2-1 문서 전처리 (Document Preprocessing) <br>\n",
        "        (1) Loading Documents <br>\n",
        "        (2) Text Splitting <br>\n",
        "        (3) Text Embedding <br>\n",
        "        (4) Vectorstore <br>\n",
        "      - 2-2 RAG 실행하기  <br>\n",
        "       (1) Retrieving Related Chunks from the Vectorstore <br>\n",
        "       (2) Creating a Prompt with Retrieved Results <br>\n",
        "       (3) Implementing an LLM Chain <br>\n",
        "       (4) Executing the LLM Chain and Generating the Response\n",
        "    - 3 - Web에서 데이터 가져와서 RAG 구축 연습해보기\n"
      ],
      "metadata": {
        "id": "_PpqBnqAsnxl"
      }
    },
    {
      "cell_type": "code",
      "execution_count": null,
      "metadata": {
        "id": "kinJdchUrKVo",
        "colab": {
          "base_uri": "https://localhost:8080/"
        },
        "outputId": "c5dd196c-019e-411b-f913-e583dac603ba"
      },
      "outputs": [
        {
          "output_type": "stream",
          "name": "stdout",
          "text": [
            "  Preparing metadata (setup.py) ... \u001b[?25l\u001b[?25hdone\n",
            "\u001b[2K     \u001b[90m━━━━━━━━━━━━━━━━━━━━━━━━━━━━━━━━━━━━━━━━\u001b[0m \u001b[32m67.3/67.3 kB\u001b[0m \u001b[31m2.7 MB/s\u001b[0m eta \u001b[36m0:00:00\u001b[0m\n",
            "\u001b[?25h  Installing build dependencies ... \u001b[?25l\u001b[?25hdone\n",
            "  Getting requirements to build wheel ... \u001b[?25l\u001b[?25hdone\n",
            "  Preparing metadata (pyproject.toml) ... \u001b[?25l\u001b[?25hdone\n",
            "\u001b[2K   \u001b[90m━━━━━━━━━━━━━━━━━━━━━━━━━━━━━━━━━━━━━━━━\u001b[0m \u001b[32m951.0/951.0 kB\u001b[0m \u001b[31m30.3 MB/s\u001b[0m eta \u001b[36m0:00:00\u001b[0m\n",
            "\u001b[2K   \u001b[90m━━━━━━━━━━━━━━━━━━━━━━━━━━━━━━━━━━━━━━━━\u001b[0m \u001b[32m2.5/2.5 MB\u001b[0m \u001b[31m82.4 MB/s\u001b[0m eta \u001b[36m0:00:00\u001b[0m\n",
            "\u001b[2K   \u001b[90m━━━━━━━━━━━━━━━━━━━━━━━━━━━━━━━━━━━━━━━━\u001b[0m \u001b[32m19.8/19.8 MB\u001b[0m \u001b[31m78.7 MB/s\u001b[0m eta \u001b[36m0:00:00\u001b[0m\n",
            "\u001b[2K   \u001b[90m━━━━━━━━━━━━━━━━━━━━━━━━━━━━━━━━━━━━━━━━\u001b[0m \u001b[32m74.5/74.5 kB\u001b[0m \u001b[31m5.7 MB/s\u001b[0m eta \u001b[36m0:00:00\u001b[0m\n",
            "\u001b[2K   \u001b[90m━━━━━━━━━━━━━━━━━━━━━━━━━━━━━━━━━━━━━━━━\u001b[0m \u001b[32m295.8/295.8 kB\u001b[0m \u001b[31m21.7 MB/s\u001b[0m eta \u001b[36m0:00:00\u001b[0m\n",
            "\u001b[2K   \u001b[90m━━━━━━━━━━━━━━━━━━━━━━━━━━━━━━━━━━━━━━━━\u001b[0m \u001b[32m64.7/64.7 kB\u001b[0m \u001b[31m4.8 MB/s\u001b[0m eta \u001b[36m0:00:00\u001b[0m\n",
            "\u001b[2K   \u001b[90m━━━━━━━━━━━━━━━━━━━━━━━━━━━━━━━━━━━━━━━━\u001b[0m \u001b[32m3.0/3.0 MB\u001b[0m \u001b[31m81.0 MB/s\u001b[0m eta \u001b[36m0:00:00\u001b[0m\n",
            "\u001b[2K   \u001b[90m━━━━━━━━━━━━━━━━━━━━━━━━━━━━━━━━━━━━━━━━\u001b[0m \u001b[32m284.2/284.2 kB\u001b[0m \u001b[31m21.5 MB/s\u001b[0m eta \u001b[36m0:00:00\u001b[0m\n",
            "\u001b[2K   \u001b[90m━━━━━━━━━━━━━━━━━━━━━━━━━━━━━━━━━━━━━━━━\u001b[0m \u001b[32m1.9/1.9 MB\u001b[0m \u001b[31m64.8 MB/s\u001b[0m eta \u001b[36m0:00:00\u001b[0m\n",
            "\u001b[2K   \u001b[90m━━━━━━━━━━━━━━━━━━━━━━━━━━━━━━━━━━━━━━━━\u001b[0m \u001b[32m50.9/50.9 kB\u001b[0m \u001b[31m3.8 MB/s\u001b[0m eta \u001b[36m0:00:00\u001b[0m\n",
            "\u001b[2K   \u001b[90m━━━━━━━━━━━━━━━━━━━━━━━━━━━━━━━━━━━━━━━━\u001b[0m \u001b[32m103.3/103.3 kB\u001b[0m \u001b[31m7.8 MB/s\u001b[0m eta \u001b[36m0:00:00\u001b[0m\n",
            "\u001b[2K   \u001b[90m━━━━━━━━━━━━━━━━━━━━━━━━━━━━━━━━━━━━━━━━\u001b[0m \u001b[32m16.5/16.5 MB\u001b[0m \u001b[31m51.9 MB/s\u001b[0m eta \u001b[36m0:00:00\u001b[0m\n",
            "\u001b[2K   \u001b[90m━━━━━━━━━━━━━━━━━━━━━━━━━━━━━━━━━━━━━━━━\u001b[0m \u001b[32m72.5/72.5 kB\u001b[0m \u001b[31m6.3 MB/s\u001b[0m eta \u001b[36m0:00:00\u001b[0m\n",
            "\u001b[2K   \u001b[90m━━━━━━━━━━━━━━━━━━━━━━━━━━━━━━━━━━━━━━━━\u001b[0m \u001b[32m105.4/105.4 kB\u001b[0m \u001b[31m8.7 MB/s\u001b[0m eta \u001b[36m0:00:00\u001b[0m\n",
            "\u001b[2K   \u001b[90m━━━━━━━━━━━━━━━━━━━━━━━━━━━━━━━━━━━━━━━━\u001b[0m \u001b[32m71.6/71.6 kB\u001b[0m \u001b[31m5.8 MB/s\u001b[0m eta \u001b[36m0:00:00\u001b[0m\n",
            "\u001b[2K   \u001b[90m━━━━━━━━━━━━━━━━━━━━━━━━━━━━━━━━━━━━━━━━\u001b[0m \u001b[32m510.8/510.8 kB\u001b[0m \u001b[31m37.3 MB/s\u001b[0m eta \u001b[36m0:00:00\u001b[0m\n",
            "\u001b[2K   \u001b[90m━━━━━━━━━━━━━━━━━━━━━━━━━━━━━━━━━━━━━━━━\u001b[0m \u001b[32m4.7/4.7 MB\u001b[0m \u001b[31m96.2 MB/s\u001b[0m eta \u001b[36m0:00:00\u001b[0m\n",
            "\u001b[2K   \u001b[90m━━━━━━━━━━━━━━━━━━━━━━━━━━━━━━━━━━━━━━━━\u001b[0m \u001b[32m452.2/452.2 kB\u001b[0m \u001b[31m25.1 MB/s\u001b[0m eta \u001b[36m0:00:00\u001b[0m\n",
            "\u001b[2K   \u001b[90m━━━━━━━━━━━━━━━━━━━━━━━━━━━━━━━━━━━━━━━━\u001b[0m \u001b[32m46.0/46.0 kB\u001b[0m \u001b[31m3.5 MB/s\u001b[0m eta \u001b[36m0:00:00\u001b[0m\n",
            "\u001b[2K   \u001b[90m━━━━━━━━━━━━━━━━━━━━━━━━━━━━━━━━━━━━━━━━\u001b[0m \u001b[32m86.8/86.8 kB\u001b[0m \u001b[31m6.4 MB/s\u001b[0m eta \u001b[36m0:00:00\u001b[0m\n",
            "\u001b[?25h  Building wheel for clipboard (setup.py) ... \u001b[?25l\u001b[?25hdone\n",
            "  Building wheel for pypika (pyproject.toml) ... \u001b[?25l\u001b[?25hdone\n",
            "\u001b[31mERROR: pip's dependency resolver does not currently take into account all the packages that are installed. This behaviour is the source of the following dependency conflicts.\n",
            "google-colab 1.0.0 requires requests==2.32.4, but you have requests 2.32.5 which is incompatible.\n",
            "transformers 4.56.0 requires tokenizers<=0.23.0,>=0.22.0, but you have tokenizers 0.20.3 which is incompatible.\u001b[0m\u001b[31m\n",
            "\u001b[0m"
          ]
        }
      ],
      "source": [
        "# 약 1분 소요\n",
        "!pip install -qU openai langchain langchain-upstage langchain-chroma langchain-community getpass4"
      ]
    },
    {
      "cell_type": "code",
      "execution_count": null,
      "metadata": {
        "id": "mRvAhpCtrKVq",
        "colab": {
          "base_uri": "https://localhost:8080/"
        },
        "outputId": "21d97676-cf1e-4817-e46d-4f7c27eda511"
      },
      "outputs": [
        {
          "output_type": "stream",
          "name": "stdout",
          "text": [
            "Enter your UPSTAGE API KEY: ··········\n",
            "API key has been set successfully.\n"
          ]
        }
      ],
      "source": [
        "import os\n",
        "import getpass\n",
        "import warnings\n",
        "\n",
        "warnings.filterwarnings(\"ignore\")\n",
        "\n",
        "# if \"OPENAI_API_KEY\" not in os.environ or not os.environ[\"OPENAI_API_KEY\"]:\n",
        "#     os.environ[\"OPENAI_API_KEY\"] = getpass.getpass(\"Enter your OPENAI API key: \")\n",
        "#     print(\"API key has been set successfully.\")\n",
        "# else:\n",
        "#     print(\"API key is already set.\")\n",
        "\n",
        "if \"UPSTAGE_API_KEY\" not in os.environ or not os.environ[\"UPSTAGE_API_KEY\"]:\n",
        "    os.environ[\"UPSTAGE_API_KEY\"] = getpass.getpass(\"Enter your UPSTAGE API KEY: \")\n",
        "    print(\"API key has been set successfully.\")\n",
        "else:\n",
        "    print(\"API key is already set.\")"
      ]
    },
    {
      "cell_type": "markdown",
      "metadata": {
        "id": "Q-y8mf2zrKVu"
      },
      "source": [
        "# RAG 구현하기\n",
        "\n",
        "1. What is RAG?\n",
        "\n",
        "2. 단계별 RAG 구현해보기\n",
        "\n",
        "3. Web에서 데이터 불러와서 RAG 구축 연습해보기"
      ]
    },
    {
      "cell_type": "markdown",
      "metadata": {
        "id": "AI6owNJkrKVu"
      },
      "source": [
        "### 1- What is RAG\n",
        "\n",
        "![Overview](https://images.contentstack.io/v3/assets/bltefdd0b53724fa2ce/blt1496b19e4c6f9e66/66ba412a46b3f4241b969f48/rag-in-action.jpeg)\n"
      ]
    },
    {
      "cell_type": "markdown",
      "source": [
        "### 📘  RAG 란?\n",
        "\n",
        "- 정의 :  RAG(Retrieval-Augmented Generation)는 **검색 엔진**과 **LLM(대규모 언어 모델)**을 결합한 기술로, 주어진 쿼리에 대해 LLM이 더 정확하고 맥락에 맞는 응답을 생성할 수 있도록 도와줍니다.\n",
        "- 방식\n",
        "  - 이 기술은 LLM이 보유하지 않는 정보를 보충하기 위해 외부 문서를 검색하여 이를 기반으로 응답을 생성합니다.\n",
        "  - 더 구체적으로는 외부 문서를 로드하고, 전처리 단계를 통해서 이를 조각(chunks)으로 분리한 후, 쿼리와 관련된 조각을 가져와 LLM 프롬프트에 포함하는 방식으로 외부 정보를 LLM에게 제공한 후, LLM이 응답을 생성합니다.\n",
        "- 기대효과 : LLM이 자체적으로 보유하지 않는 정보를 외부 문서를 통해 보충해주기에, LLM의 한계인 Hallucination과 Knowledge Cutoff 문제를 해결할 수 있습니다.\n",
        "\n",
        "\n"
      ],
      "metadata": {
        "id": "_BsC-CwcEXuR"
      }
    },
    {
      "cell_type": "markdown",
      "metadata": {
        "id": "zeTQFddZrKV1"
      },
      "source": [
        "## 2 - 단계별 RAG 구현해보기"
      ]
    },
    {
      "cell_type": "markdown",
      "source": [
        "### 📘 각 단계별 설명\n",
        "\n",
        "1. **문서 전처리 (Document Preprocessing)**:\n",
        "   1. **문서 로드 (Loading Documents)**: `Upstage Document Parse API` 또는 오픈소스인 `PyPDFLoader`를 사용해 외부 PDF 문서를 HTML 텍스트 데이터 형태로 로드합니다.\n",
        "   2. **텍스트 분할 (Text Splitting)**: 긴 문서를 작은 조각(chunks)으로 분할하여 검색 효율성을 높입니다. 이를 통해 모델이 보다 구체적이고 정확하게 정보를 찾을 수 있습니다.\n",
        "   3.  **임베딩 (Embedding)**: `Upstage Solar Embedding API` 또는 Huggingface의 여러 오픈소스 임베딩 모델을 사용해 텍스트를 벡터로 변환합니다. 이 작업은 문서의 의미/문맥을 벡터 공간에 매핑하여 모델이 이를 검색 및 분석에 활용할 수 있도록 합니다.\n",
        "   4. **벡터스토어 (Vectorstore)**: 임베딩된 벡터를 저장하는 데이터베이스로, RAG 시스템 내에서 검색할 수 있는 공간을 제공합니다.\n",
        "\n",
        "2. **RAG 실행 (Implementing RAG)**:\n",
        "   5. **관련 조각 검색 (Retrieving Related Chunks)**: 벡터스토어에서 쿼리와 관련된 조각을 검색해 가져옵니다. 이를 통해 LLM이 응답을 생성할 때 필요한 정보를 제공합니다.\n",
        "   6. **프롬프트 생성 (Creating a Prompt with Retrieved Results)**: 검색된 조각을 프롬프트에 포함시켜 LLM이 문맥을 이해하고 응답할 수 있도록 합니다.\n",
        "   7. **LLM 체인 구현 (Implementing an LLM Chain)**: 위의 입력 프롬프트를 기반으로 LLM 체인을 정의합니다.\n",
        "   8. **LLM 체인 실행 및 응답 출력 (Executing the LLM Chain and Generating the Response)**: LLM 체인을 실행하여 최종 응답을 생성합니다.\n"
      ],
      "metadata": {
        "id": "6hVIt7N4LJmy"
      }
    },
    {
      "cell_type": "markdown",
      "source": [
        "### 2-1 문서 전처리 (Document Preprocessing)"
      ],
      "metadata": {
        "id": "DHLF8vv8nt5q"
      }
    },
    {
      "cell_type": "markdown",
      "source": [
        "#### (1) Loading Documents by PyPDFLoader"
      ],
      "metadata": {
        "id": "lony0VWWwLFD"
      }
    },
    {
      "cell_type": "code",
      "source": [
        "# Transformer 논문 다운로드\n",
        "!wget -q -O transformer_paper.pdf https://arxiv.org/pdf/1706.03762"
      ],
      "metadata": {
        "id": "DJbeNJ_AeteB"
      },
      "execution_count": null,
      "outputs": []
    },
    {
      "cell_type": "code",
      "execution_count": null,
      "metadata": {
        "id": "btSr7dMurKVu",
        "colab": {
          "base_uri": "https://localhost:8080/"
        },
        "outputId": "4396a97c-0b69-4893-d456-d4f2b115e4d2"
      },
      "outputs": [
        {
          "output_type": "stream",
          "name": "stdout",
          "text": [
            "Loaded 15 documents.\n",
            "Provided proper attribution is provided, Google hereby grants permission to\n",
            "reproduce the tables and figures in this paper solely for use in journalistic or\n",
            "scholarly works.\n",
            "Attention Is All You Need\n",
            "Ashish Vaswani∗\n",
            "Google Brain\n",
            "avaswani@google.comNoam Shazeer∗\n",
            "Google Brain\n",
            "noam@google.comNiki Parmar∗\n",
            "Google Research\n",
            "nikip@google.comJakob Uszkoreit∗\n",
            "Google Research\n",
            "usz@google.com\n",
            "Llion Jones∗\n",
            "Google Research\n",
            "llion@google.comAidan N. Gomez∗ †\n",
            "University of Toronto\n",
            "aidan@cs.toronto.eduŁukasz Kaise\n"
          ]
        }
      ],
      "source": [
        "# Document Loader로 다운로드 된 문서 불러오기\n",
        "from langchain.document_loaders import PyPDFLoader\n",
        "loader = PyPDFLoader(\"transformer_paper.pdf\")\n",
        "docs = loader.load()\n",
        "print(f\"Loaded {len(docs)} documents.\")\n",
        "print(docs[0].page_content[:500])"
      ]
    },
    {
      "cell_type": "markdown",
      "source": [
        "#### (2) Text Splitting"
      ],
      "metadata": {
        "id": "C9yO5di-np_f"
      }
    },
    {
      "cell_type": "markdown",
      "source": [
        "\n",
        "\n",
        "**📘Text Splitting을 하는 이유**\n",
        "- 만약, 문서가 길지 않고 짧다면 그대로 넣어주도 무방함.\n",
        "- 하지만, 문서의 사이즈가 큰 경우\n",
        "  - LLM에게 입력할 수 있는 최대 토큰 수를 초과\n",
        "  - 쿼리와 연관되지 않은 불필요한 부분이 포함되어 성능이 잘 나오지 않음.\n",
        "- 따라서  긴 문서를 작은 조각(chunks)으로 분할하여 검색 효율성을 높입니다. 이를 통해 모델이 보다 구체적이고 정확하게 정보를 찾을 수 있습니다.\n",
        "\n",
        "<b>📘RecursiveCharacterTextSplitter </b>\n",
        "- 가장 대표적으로 많이 활용되는 Text Splitter\n",
        "- **방식**\n",
        "  - `RecursiveCharacterTextSplitter` : 글자수가 `chunk size`를 넘지 않을 때까지 아래와 같이 text를 분리함.\n",
        "  -  `(['\\n\\n', '\\n', ' ', ''])` : 문단, 문장, 단어 순서로 문서를 분리하다가 chunk 내 글자수가 `chunk size` 보다 작아지면 분리함.\n",
        "- **파라미터**\n",
        "  - `chunk_size` : 하나의 Chunk당 최대 글자 수\n",
        "  - `chunk_overlap` : 각 chunk 마다 겹치는 글자 수\n",
        "    - chunk 마다 일부 내용을 겹쳐서 분할된 chuck 마다 맥락이 이어질수 있도록 하기 위함."
      ],
      "metadata": {
        "id": "Ns3S-4PNwQ6M"
      }
    },
    {
      "cell_type": "code",
      "execution_count": null,
      "metadata": {
        "id": "2OsD2A7srKV1",
        "colab": {
          "base_uri": "https://localhost:8080/"
        },
        "outputId": "507960c5-6762-48fb-c197-7db810390d5e"
      },
      "outputs": [
        {
          "output_type": "stream",
          "name": "stdout",
          "text": [
            "Number of splits: 264\n"
          ]
        }
      ],
      "source": [
        "from langchain.text_splitter import RecursiveCharacterTextSplitter\n",
        "text_splitter = RecursiveCharacterTextSplitter(\n",
        "    chunk_size=200,\n",
        "    chunk_overlap=50\n",
        ")\n",
        "splits = text_splitter.split_documents(docs)\n",
        "print(\"Number of splits:\", len(splits))"
      ]
    },
    {
      "cell_type": "code",
      "execution_count": null,
      "metadata": {
        "id": "s7MOE1k8rKV2",
        "colab": {
          "base_uri": "https://localhost:8080/",
          "height": 458
        },
        "outputId": "88c3c948-fc74-45ec-e6e5-018cc9cb2734"
      },
      "outputs": [
        {
          "output_type": "display_data",
          "data": {
            "text/plain": [
              "<Figure size 640x480 with 1 Axes>"
            ],
            "image/png": "[encoded data removed]"
          },
          "metadata": {}
        }
      ],
      "source": [
        "# split된 결과 확인\n",
        "import matplotlib.pyplot as plt\n",
        "\n",
        "split_lengths = [len(split.page_content) for split in splits]\n",
        "\n",
        "# Create a bar graph\n",
        "plt.bar(range(len(split_lengths)), split_lengths)\n",
        "plt.title(\"RecursiveCharacterTextSplitter\")\n",
        "plt.xlabel(\"Split Index\")\n",
        "plt.ylabel(\"Split Content Length\")\n",
        "plt.xticks(range(len(split_lengths)), [])\n",
        "plt.show()"
      ]
    },
    {
      "cell_type": "markdown",
      "source": [
        "#### (3) Embedding"
      ],
      "metadata": {
        "id": "aRjnKD39n_ld"
      }
    },
    {
      "cell_type": "markdown",
      "source": [
        "<img src=\"https://qdrant.tech/articles_data/what-are-embeddings/How-Embeddings-Work.jpg\" alt=\"vector embedding\" width=\"600\" />\n",
        "\n",
        "**Embedding 정의**\n",
        "- Embedding은 **자연어(텍스트) 데이터**를 컴퓨터가 이해할 수 있는 **숫자** 형식으로 변환하는 것.\n",
        "- 사람이 이해하는 텍스트 정보를 컴퓨터가 이해할 수 있는 형식(=Vector)으로 변환하여 데이터를 LLM 등 모델에 쉽게 전달할 수 있도록 합니다.\n",
        "\n",
        "**`Upstage Solar Embedding API`**\n",
        "\n",
        "<img src=\"https://cdn.prod.website-files.com/6743d5190bb2b52f38e99ecd/6762f6d388a6d5a0d450b3e2_%25E1%2584%2589%25E1%2585%25B3%25E1%2584%258F%25E1%2585%25B3%25E1%2584%2585%25E1%2585%25B5%25E1%2586%25AB%25E1%2584%2589%25E1%2585%25A3%25E1%2586%25BA%2B2024-05-16%2B%25E1%2584%258B%25E1%2585%25A9%25E1%2584%2592%25E1%2585%25AE%2B3.57.59.avif\" alt=\"solar embedding\" width=\"600\" />\n",
        "\n",
        "- 성능 : 한국어/영어/일본어 모두 널리 사용되는 임베딩 모델보다 성능이 뛰어남\n",
        "\n",
        "**RAG에서 Embedding은 VectorStore 에서 모델을 지정하여 활용할 수 있습니다**\n"
      ],
      "metadata": {
        "id": "KFB16r_AwUWz"
      }
    },
    {
      "cell_type": "markdown",
      "source": [
        "#### (4) 벡터스토어 (VectorStore)\n",
        "\n"
      ],
      "metadata": {
        "id": "bqrYVKg-oCxd"
      }
    },
    {
      "cell_type": "markdown",
      "source": [
        "**벡터**를 저장하는 데이터베이스로, RAG 시스템 내에서 검색할 수 있는 공간을 제공합니다.\n",
        "- VectorStore마다 지원하는 검색 알고리즘이 달라짐.\n",
        "- Vectorstore 유형\n",
        "  -  로컬 : 내 컴퓨터에 저장\n",
        "  -  Cloud : 각 DB 회사 서버에 저장\n",
        "- Langchain이 제공하는 더 다양한 VectorStore : [링크](https://python.langchain.com/docs/integrations/vectorstores/)\n",
        "\n",
        "**ChromaDB**\n",
        "- Cloud 기반 오픈소스 벡터 데이터베이스\n",
        "- 임베딩 Vector 저장 및 검색 기능\n",
        "- 문서 추가 및 업데이트, 삭제\n",
        "- 다양한 검색 기능 제공\n",
        "- Langchain과 통합되어 제공"
      ],
      "metadata": {
        "id": "tpTAsyTRwW0I"
      }
    },
    {
      "cell_type": "code",
      "execution_count": null,
      "metadata": {
        "id": "ivKBnUy1rKV2"
      },
      "outputs": [],
      "source": [
        "# Embedding 불러오고, 선정한 Vector Store에 저장하기\n",
        "from langchain_upstage import UpstageEmbeddings\n",
        "from langchain_chroma import Chroma\n",
        "\n",
        "embeddings = UpstageEmbeddings(model='embedding-query') # API calls\n",
        "vectorstore = Chroma.from_documents(splits, embeddings)"
      ]
    },
    {
      "cell_type": "markdown",
      "source": [
        "**참고**\n",
        "- [ChromaDB LangChain Documentation](https://python.langchain.com/docs/integrations/vectorstores/chroma/)\n",
        "- [ChromaDB Official Documentation](https://docs.trychroma.com/getting-started)"
      ],
      "metadata": {
        "id": "sAtGflr9tkAJ"
      }
    },
    {
      "cell_type": "markdown",
      "source": [
        "### 2-2 RAG 실행하기"
      ],
      "metadata": {
        "id": "VN0ZtkYboF_7"
      }
    },
    {
      "cell_type": "markdown",
      "source": [
        "#### (5) Retrieving Related Chunks\n",
        "\n",
        "- 벡터스토어에서 사용자의 질문(쿼리)와 유사한 문서를 검색하는 과정입니다. LLM이 응답을 생성할 때 필요한 정보를 제공합니다.\n",
        "\n",
        "- Retriever 유형\n",
        "  - **Sparse Retriever**: 키워드 검색\n",
        "    - 쿼리를 키워드 벡터로 전환하여 키워드 기반 검색을 진행합니다.\n",
        "    - 특정 도메인 지식(e.g. 의학, 법률) 등을 검색할 때 용이합니다.\n",
        "    - 대표 알고리즘 : TF-IDF, BM25\n",
        "  - **Dense Retriever**: 의미 검색\n",
        "    - 쿼리를 벡터로 임베딩하여 가장 유사도가 높은 chunk를 찾습니다.\n",
        "    - 복잡한 자연어 질문에 대한 검색 시 용이합니다.\n",
        "    - 대표 알고리즘 : FAISS\n",
        "\n",
        "**참고** <br>\n",
        "- [Lanchain - Retriever](https://python.langchain.com/docs/integrations/retrievers/)  documentation을 통해 더 자세한 내용 참고 바랍니다\n",
        "- [MMR 알고리즘](https://wikidocs.net/231585) 에 대한 설명\n"
      ],
      "metadata": {
        "id": "_-_-Zyojz31C"
      }
    },
    {
      "cell_type": "code",
      "execution_count": null,
      "metadata": {
        "id": "iuXuRoDirKV2",
        "colab": {
          "base_uri": "https://localhost:8080/"
        },
        "outputId": "99063bed-cce2-47c8-83f3-9e7e5f11f735"
      },
      "outputs": [
        {
          "output_type": "stream",
          "name": "stdout",
          "text": [
            "('models have not been able to attain state-of-the-art results in small-data '\n",
            " 'regimes [37].\\n'\n",
            " 'We trained a 4-layer transformer with dmodel = 1024 on the Wall Street '\n",
            " 'Journal (WSJ) portion of the')\n"
          ]
        }
      ],
      "source": [
        "# retriever 정의하고 retrieve한 결과 받아오기\n",
        "query = \"How many layers in transformer?\"\n",
        "retriever = vectorstore.as_retriever(\n",
        "    search_type=\"mmr\",\n",
        "    search_kwargs={'k':20}\n",
        ")\n",
        "result_docs = retriever.invoke(query)\n",
        "outputs = [doc.page_content for doc in result_docs]\n",
        "from pprint import pprint\n",
        "\n",
        "pprint(outputs[5])"
      ]
    },
    {
      "cell_type": "markdown",
      "source": [
        "#### (6) Creating a Prompt with Retrieved Results\n",
        "- 검색된 문서 chunk들을 프롬프트에 포함시켜 LLM이 문맥을 이해하고 응답할 수 있도록 합니다."
      ],
      "metadata": {
        "id": "zctvEPLIz7iS"
      }
    },
    {
      "cell_type": "code",
      "source": [
        "# context에 검색된 chunk들을 넣어줍니다.\n",
        "# (지난 시간에 배웠던) LLM Chain 구성하는 법.\n",
        "# 1. llm 정의, 2. prompt 정의, 3. chain 정의, 4. chain 호출\n",
        "\n",
        "# from langchain_openai import ChatOpenAI\n",
        "from langchain_upstage import ChatUpstage\n",
        "from langchain_core.output_parsers import StrOutputParser\n",
        "from langchain_core.prompts import ChatPromptTemplate\n",
        "\n",
        "prompt = ChatPromptTemplate.from_messages(\n",
        "    [\n",
        "        (\n",
        "            \"system\",\n",
        "            \"\"\"\n",
        "            너는 인공지능 챗봇으로, 주어진 문서를 정확하게 이해해서 답변을 해야해.\n",
        "            문서에 있는 내용으로만 답변하고 내용이 없다면, 잘 모르겠다고 답변해.\n",
        "            답변은 꼭 한글로 해줘. 나 영어 잘 못해.\n",
        "            ---\n",
        "            CONTEXT:\n",
        "            {context}\n",
        "            \"\"\",\n",
        "        ),\n",
        "        (\"human\", \"{input}\"),\n",
        "    ]\n",
        ")\n",
        "\n",
        "llm = ChatUpstage(model='solar-pro2')"
      ],
      "metadata": {
        "id": "73z8EoV8zdzj"
      },
      "execution_count": null,
      "outputs": []
    },
    {
      "cell_type": "markdown",
      "source": [
        "#### (7) Implementing an LLM Chain\n",
        "- 위의 입력 프롬프트를 기반으로 LLM 체인을 정의합니다.\n"
      ],
      "metadata": {
        "id": "8GbR_-SW0Cj7"
      }
    },
    {
      "cell_type": "code",
      "source": [
        "chain = prompt | llm | StrOutputParser()"
      ],
      "metadata": {
        "id": "ci-eHbwWzbWF"
      },
      "execution_count": null,
      "outputs": []
    },
    {
      "cell_type": "markdown",
      "source": [
        "#### (8) Executing the LLM Chain and Generating the Response\n",
        "-  LLM 체인을 실행하여 최종 응답을 생성합니다."
      ],
      "metadata": {
        "id": "fD4lqKx80fii"
      }
    },
    {
      "cell_type": "code",
      "source": [
        "from pprint import pprint\n",
        "\n",
        "context = \"\\n\\n\".join([doc.page_content for doc in result_docs])\n",
        "response = chain.invoke({'context' : context, 'input' : query})\n",
        "print(response)"
      ],
      "metadata": {
        "id": "wtCuJ2uB0lWh",
        "colab": {
          "base_uri": "https://localhost:8080/"
        },
        "outputId": "be90f0a1-94ab-45cf-cd76-dcfd03f84d38"
      },
      "execution_count": null,
      "outputs": [
        {
          "output_type": "stream",
          "name": "stdout",
          "text": [
            "주어진 문서에 따르면, Transformer 모델의 기본 구성은 다음과 같습니다:\n",
            "\n",
            "1. **인코더(Encoder)**:  \n",
            "   - `N = 6`개의 동일한 레이어로 구성된 스택  \n",
            "   - 각 레이어는 2개의 서브레이어 포함:  \n",
            "     - 멀티헤드 셀프 어텐션 메커니즘  \n",
            "     - 포지션별 완전 연결 피드포워드 네트워크  \n",
            "\n",
            "2. **디코더(Decoder)**:  \n",
            "   - `N = 6`개의 동일한 레이어로 구성된 스택  \n",
            "   - 각 레이어는 3개의 서브레이어 포함:  \n",
            "     - 멀티헤드 셀프 어텐션 메커니즘  \n",
            "     - 인코더 출력에 대한 멀티헤드 어텐션  \n",
            "     - 포지션별 완전 연결 피드포워드 네트워크  \n",
            "\n",
            "### 추가 정보\n",
            "- **변형 모델**: 문서 내 영어 구구조 분석 실험에서는 **4-레이어 Transformer**가 언급되었으며, 이는 특정 태스크에 맞게 조정된 경우입니다.  \n",
            "- **기본 구성**은 인코더와 디코더 각각 **6개의 레이어**로 이루어져 있음을 명시합니다.  \n",
            "\n",
            "따라서, **표준 Transformer 모델은 인코더와 디코더 각각 6개의 레이어**로 구성됩니다.\n"
          ]
        }
      ]
    },
    {
      "cell_type": "markdown",
      "source": [
        "## 3 - Web에서 데이터 불러와서 RAG 구축 연습해보기\n",
        "\n",
        "- langchain_community에 있는 WebBaseLoader를 이용하여 wikipedia의 내용을 불러와서 RAG를 구축하는 예제를 연습해봅니다.\n"
      ],
      "metadata": {
        "id": "x6oAgbZBHc60"
      }
    },
    {
      "cell_type": "code",
      "source": [
        "!pip install -qU langchain_community"
      ],
      "metadata": {
        "id": "i8Ibx54HJBsR"
      },
      "execution_count": null,
      "outputs": []
    },
    {
      "cell_type": "code",
      "source": [
        "from langchain.document_loaders import WebBaseLoader\n",
        "\n",
        "# 1. 웹 페이지 로드\n",
        "loader = WebBaseLoader(\"https://en.wikipedia.org/wiki/Python_(programming_language)\")\n",
        "data = loader.load()\n",
        "\n",
        "# 2. 텍스트 분할\n",
        "text_splitter = RecursiveCharacterTextSplitter(\n",
        "    chunk_size=200, chunk_overlap=20\n",
        ")\n",
        "\n",
        "splits = text_splitter.split_documents(data)\n",
        "\n",
        "# 3. 임베딩 및 벡터 저장소 생성\n",
        "vectorstore = Chroma.from_documents(\n",
        "     documents=splits, embedding=UpstageEmbeddings(model=\"embedding-query\")\n",
        ")\n",
        "\n",
        "# 4. Dense Retriever 생성\n",
        "query = \"파이썬이 처음 공개된 연도는?\"\n",
        "\n",
        "# Dense Retriever 생성\n",
        "retriever = vectorstore.as_retriever(\n",
        "    search_type= 'mmr',     # default : similarity(유사도) / mmr 알고리즘\n",
        "    search_kwargs={\"k\": 10}  # 쿼리와 관련된 chunk를 10개 검색하기 (default : 4)\n",
        ")\n",
        "\n",
        "result_docs = retriever.invoke(query) # 쿼리 호출하여 retriever로 검색\n",
        "\n",
        "# 5. ChatPromptTemplate 정의\n",
        "prompt = ChatPromptTemplate.from_messages(\n",
        "    [\n",
        "        (\n",
        "            \"system\",\n",
        "            \"\"\"\n",
        "            너는 인공지능 챗봇으로, 주어진 문서를 정확하게 이해해서 답변을 해야해.\n",
        "            문서에 있는 내용으로만 답변하고 내용이 없다면, 잘 모르겠다고 답변해.\n",
        "            ---\n",
        "            CONTEXT:\n",
        "            {context}\n",
        "            \"\"\",\n",
        "        ),\n",
        "        (\"human\", \"{input}\"),\n",
        "    ]\n",
        ")\n",
        "\n",
        "# 6. LLMChain 정의\n",
        "llm = ChatUpstage(model='solar-pro2')\n",
        "chain = prompt | llm | StrOutputParser()\n",
        "\n",
        "# 7. 질문 및 답변\n",
        "response = chain.invoke({\"context\": result_docs, \"input\": query})\n",
        "response"
      ],
      "metadata": {
        "id": "wQMpVluQH9GL",
        "colab": {
          "base_uri": "https://localhost:8080/",
          "height": 73
        },
        "outputId": "1ab7f909-ee72-4676-9cbe-aa43da1e1cad"
      },
      "execution_count": null,
      "outputs": [
        {
          "output_type": "stream",
          "name": "stderr",
          "text": [
            "WARNING:langchain_community.utils.user_agent:USER_AGENT environment variable not set, consider setting it to identify your requests.\n"
          ]
        },
        {
          "output_type": "execute_result",
          "data": {
            "text/plain": [
              "'주어진 문서에 따르면, 파이썬은 **1991년**에 처음 공개되었습니다.  \\n\\n- 첫 번째 문서에서 언급된 내용:  \\n  *\"Python was conceived in the late 1980s... (he first released it in 1991 as Python 0.9.0.)\"*  \\n\\n따라서 정답은 **1991년**입니다.'"
            ],
            "application/vnd.google.colaboratory.intrinsic+json": {
              "type": "string"
            }
          },
          "metadata": {},
          "execution_count": 28
        }
      ]
    },
    {
      "cell_type": "markdown",
      "source": [
        "## (Go Further) Advanced RAG pipeline\n",
        "\n",
        "![advanced_rag](https://www.elastic.co/search-labs/_next/image?url=https%3A%2F%2Fcdn.sanity.io%2Fimages%2Fme0ej585%2Fsearch-labs-import-testing%2Fdafa7250e7c4ead4d9b4aed7c407509131929749-1440x572.png&w=1920&q=75)"
      ],
      "metadata": {
        "id": "1BY3YFeHMxb9"
      }
    },
    {
      "cell_type": "code",
      "source": [],
      "metadata": {
        "id": "wM0Q-yYmswPt"
      },
      "execution_count": null,
      "outputs": []
    }
  ],
  "metadata": {
    "kernelspec": {
      "display_name": "Python 3 (ipykernel)",
      "language": "python",
      "name": "python3"
    },
    "language_info": {
      "codemirror_mode": {
        "name": "ipython",
        "version": 3
      },
      "file_extension": ".py",
      "mimetype": "text/x-python",
      "name": "python",
      "nbconvert_exporter": "python",
      "pygments_lexer": "ipython3",
      "version": "3.12.4"
    },
    "colab": {
      "provenance": [],
      "include_colab_link": true
    }
  },
  "nbformat": 4,
  "nbformat_minor": 0
}